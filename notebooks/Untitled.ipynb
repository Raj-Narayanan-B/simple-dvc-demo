{
 "cells": [
  {
   "cell_type": "code",
   "execution_count": 7,
   "id": "7615da6c-9118-480f-bcbd-230a738682f9",
   "metadata": {
    "tags": []
   },
   "outputs": [
    {
     "data": {
      "text/plain": [
       "'F:\\\\iNeuron\\\\End2End\\\\Simple App'"
      ]
     },
     "execution_count": 7,
     "metadata": {},
     "output_type": "execute_result"
    }
   ],
   "source": [
    "pwd"
   ]
  },
  {
   "cell_type": "code",
   "execution_count": 6,
   "id": "c71c982f",
   "metadata": {},
   "outputs": [
    {
     "data": {
      "text/plain": [
       "'mlflow-artifacts:/0/261b7e58a19149bba3e5701a4237e2a9/artifacts'"
      ]
     },
     "execution_count": 6,
     "metadata": {},
     "output_type": "execute_result"
    }
   ],
   "source": [
    "mlflow.get_artifact_uri()"
   ]
  },
  {
   "cell_type": "code",
   "execution_count": 5,
   "id": "30dc8e52",
   "metadata": {},
   "outputs": [],
   "source": [
    "import mlflow\n",
    "import os\n",
    "\n",
    "os.chdir(\"F:\\\\iNeuron\\\\End2End\\\\Simple App\")\n",
    "# Start a run\n",
    "with mlflow.start_run():\n",
    "    # Log metrics, parameters, artifacts, etc.\n",
    "    mlflow.log_metric(\"mae\", 0.123)\n",
    "    mlflow.log_param(\"alpha\", 0.5)\n",
    "    # mlflow.log_artifact(\"model.pkl\")"
   ]
  },
  {
   "cell_type": "code",
   "execution_count": 28,
   "id": "7958a112",
   "metadata": {},
   "outputs": [
    {
     "data": {
      "text/plain": [
       "ParseResult(scheme='mlflow-artifacts', netloc='', path='/0/1835e1961b324cea897366c966906701/artifacts', params='', query='', fragment='')"
      ]
     },
     "execution_count": 28,
     "metadata": {},
     "output_type": "execute_result"
    }
   ],
   "source": [
    "from urllib.parse import urlparse\n",
    "\n",
    "tracking_url_type_store = urlparse(mlflow.get_artifact_uri())\n",
    "tracking_url_type_store"
   ]
  },
  {
   "cell_type": "code",
   "execution_count": 27,
   "id": "848539a8",
   "metadata": {},
   "outputs": [
    {
     "data": {
      "text/plain": [
       "str"
      ]
     },
     "execution_count": 27,
     "metadata": {},
     "output_type": "execute_result"
    }
   ],
   "source": [
    "type(tracking_url_type_store)"
   ]
  },
  {
   "cell_type": "code",
   "execution_count": 10,
   "id": "7e917e2a",
   "metadata": {},
   "outputs": [
    {
     "name": "stdout",
     "output_type": "stream",
     "text": [
      "MLflow Tracking URI: file:///F:/iNeuron/End2End/Simple%20App/mlruns\n"
     ]
    }
   ],
   "source": [
    "print(\"MLflow Tracking URI:\", mlflow.get_tracking_uri())\n"
   ]
  },
  {
   "cell_type": "code",
   "execution_count": 9,
   "id": "65870748-bcbc-4487-bcdc-7ec34f0ae3da",
   "metadata": {
    "tags": []
   },
   "outputs": [
    {
     "name": "stdout",
     "output_type": "stream",
     "text": [
      "Run IDs:\n",
      "Index(['run_id', 'experiment_id', 'status', 'artifact_uri', 'start_time',\n",
      "       'end_time', 'metrics.mae', 'metrics.r2', 'metrics.rmse',\n",
      "       'params.l1_ratio', 'params.alpha', 'tags.mlflow.source.type',\n",
      "       'tags.mlflow.runName', 'tags.mlflow.source.name',\n",
      "       'tags.mlflow.source.git.commit', 'tags.mlflow.log-model.history',\n",
      "       'tags.mlflow.user'],\n",
      "      dtype='object')\n"
     ]
    }
   ],
   "source": [
    "from src.get_data import read_params\n",
    "import argparse\n",
    "import mlflow\n",
    "from mlflow.tracking import MlflowClient\n",
    "from pprint import pprint\n",
    "import joblib\n",
    "import os\n",
    "\n",
    "os.chdir(\"F:\\\\iNeuron\\\\End2End\\\\Simple App\")\n",
    "\n",
    "def log_production_model(config_path):\n",
    "    config = read_params(config_path)\n",
    "\n",
    "    mlflow_config = config[\"mlflow_config\"]\n",
    "\n",
    "    model_name= mlflow_config[\"registered_model_name\"]\n",
    "\n",
    "    remote_server_uri = mlflow_config['remote_server_uri']\n",
    "    mlflow.set_registry_uri(remote_server_uri)\\\n",
    "\n",
    "    experiment_id = '415606185164150086'\n",
    "\n",
    "    # Search for runs in the specified experiment\n",
    "    runs = mlflow.search_runs(experiment_ids=[experiment_id])\n",
    "\n",
    "    # Print run IDs\n",
    "    print(\"Run IDs:\")\n",
    "    print(runs.columns)\n",
    "\n",
    "\n",
    "    # runs = mlflow.search_runs(experiment_ids=None)\n",
    "    # print(runs.columns)\n",
    "    # print(runs.info())\n",
    "    # lowest = runs.loc[runs[\"metrics.mae\"].idxmin()][\"metrics.mae\"]\n",
    "    # lowest_run_id = runs[runs[\"metrics.mae\"]==lowest][\"run_id\"][0]\n",
    "\n",
    "    # client =MlflowClient()\n",
    "    # for mv in client.search_model_versions(f\"name='{model_name}'\"):\n",
    "    #     mv = dict(mv)\n",
    "    #     pprint(mv, indent=4)\n",
    "\n",
    "        # if mv[\"run_id\"]== lowest_run_id:\n",
    "        #     current_version = mv['version']\n",
    "        #     logged_model = mv[\"source\"]\n",
    "        #     pprint(mv, indent=4)\n",
    "        #     client.transition_model_version_stage(\n",
    "        #         name = model_name,\n",
    "        #         version = current_version,\n",
    "        #         stage = 'Production'\n",
    "        #     )\n",
    "        # else:\n",
    "        #     current_version = mv['version']\n",
    "        #     #logged_model = mv[\"source\"]\n",
    "        #     #pprint(mv, indent=4)\n",
    "        #     client.transition_model_version_stage(\n",
    "        #         name = model_name,\n",
    "        #         version = current_version,\n",
    "        #         stage = 'Staging'\n",
    "        #     )\n",
    "\n",
    "log_production_model(\"params.yaml\")"
   ]
  },
  {
   "cell_type": "code",
   "execution_count": 1,
   "id": "1c9229ec",
   "metadata": {},
   "outputs": [
    {
     "data": {
      "text/plain": [
       "'f:\\\\iNeuron\\\\End2End\\\\Simple App\\\\notebooks'"
      ]
     },
     "execution_count": 1,
     "metadata": {},
     "output_type": "execute_result"
    }
   ],
   "source": [
    "pwd"
   ]
  },
  {
   "cell_type": "code",
   "execution_count": 39,
   "id": "011e18bd",
   "metadata": {},
   "outputs": [
    {
     "ename": "AttributeError",
     "evalue": "'NoneType' object has no attribute 'experiment_id'",
     "output_type": "error",
     "traceback": [
      "\u001b[1;31m---------------------------------------------------------------------------\u001b[0m",
      "\u001b[1;31mAttributeError\u001b[0m                            Traceback (most recent call last)",
      "\u001b[1;32mf:\\iNeuron\\End2End\\Simple App\\notebooks\\Untitled.ipynb Cell 9\u001b[0m line \u001b[0;36m7\n\u001b[0;32m      <a href='vscode-notebook-cell:/f%3A/iNeuron/End2End/Simple%20App/notebooks/Untitled.ipynb#X13sZmlsZQ%3D%3D?line=3'>4</a>\u001b[0m experiment_name \u001b[39m=\u001b[39m \u001b[39m'\u001b[39m\u001b[39mElasticNet Regression\u001b[39m\u001b[39m'\u001b[39m\n\u001b[0;32m      <a href='vscode-notebook-cell:/f%3A/iNeuron/End2End/Simple%20App/notebooks/Untitled.ipynb#X13sZmlsZQ%3D%3D?line=5'>6</a>\u001b[0m \u001b[39m# Get the experiment ID by name\u001b[39;00m\n\u001b[1;32m----> <a href='vscode-notebook-cell:/f%3A/iNeuron/End2End/Simple%20App/notebooks/Untitled.ipynb#X13sZmlsZQ%3D%3D?line=6'>7</a>\u001b[0m experiment_id \u001b[39m=\u001b[39m mlflow\u001b[39m.\u001b[39;49mget_experiment_by_name(experiment_name)\u001b[39m.\u001b[39;49mexperiment_id\n",
      "\u001b[1;31mAttributeError\u001b[0m: 'NoneType' object has no attribute 'experiment_id'"
     ]
    }
   ],
   "source": [
    "import mlflow\n",
    "\n",
    "# Replace 'ElasticNet Regression' with the name of your experiment\n",
    "experiment_name = 'ElasticNet Regression'\n",
    "\n",
    "# Get the experiment ID by name\n",
    "experiment_id = mlflow.get_experiment_by_name(experiment_name).experiment_id"
   ]
  },
  {
   "cell_type": "code",
   "execution_count": 38,
   "id": "fb46cb53",
   "metadata": {},
   "outputs": [
    {
     "data": {
      "text/plain": [
       "'1'"
      ]
     },
     "execution_count": 38,
     "metadata": {},
     "output_type": "execute_result"
    }
   ],
   "source": [
    "experiment_id"
   ]
  },
  {
   "cell_type": "code",
   "execution_count": 22,
   "id": "eab3429f",
   "metadata": {},
   "outputs": [
    {
     "name": "stdout",
     "output_type": "stream",
     "text": [
      "Experiment 'ElasticNet Regression' deleted.\n"
     ]
    }
   ],
   "source": [
    "# Delete the experiment\n",
    "mlflow.delete_experiment(\"0\")\n",
    "\n",
    "print(f\"Experiment '{experiment_name}' deleted.\")"
   ]
  },
  {
   "cell_type": "code",
   "execution_count": 27,
   "id": "a1d75760",
   "metadata": {},
   "outputs": [
    {
     "name": "stderr",
     "output_type": "stream",
     "text": [
      "c:\\Users\\DELL\\anaconda3\\envs\\venv\\Lib\\site-packages\\_distutils_hack\\__init__.py:18: UserWarning: Distutils was imported before Setuptools, but importing Setuptools also replaces the `distutils` module in `sys.modules`. This may lead to undesirable behaviors or errors. To avoid these issues, avoid using distutils directly, ensure that setuptools is installed in the traditional way (e.g. not an editable install), and/or make sure that setuptools is always imported before distutils.\n",
      "  warnings.warn(\n",
      "c:\\Users\\DELL\\anaconda3\\envs\\venv\\Lib\\site-packages\\_distutils_hack\\__init__.py:33: UserWarning: Setuptools is replacing distutils.\n",
      "  warnings.warn(\"Setuptools is replacing distutils.\")\n"
     ]
    }
   ],
   "source": [
    "# load the train and test dataset\n",
    "# train the algorithm\n",
    "# save the metrics and params\n",
    "\n",
    "import os\n",
    "import warnings\n",
    "import sys\n",
    "\n",
    "import pandas as pd\n",
    "import numpy as np\n",
    "from sklearn.metrics import mean_squared_error, mean_absolute_error, r2_score\n",
    "from sklearn.model_selection import train_test_split\n",
    "from sklearn.linear_model import ElasticNet\n",
    "from urllib.parse import urlparse\n",
    "from src.get_data import read_params\n",
    "import argparse\n",
    "import joblib\n",
    "import json\n",
    "\n",
    "import mlflow\n",
    "\n",
    "os.chdir(\"F:\\\\iNeuron\\\\End2End\\\\Simple App\")\n",
    "\n",
    "def eval_metrics(ytest,ypred):\n",
    "    rmse=np.sqrt(mean_squared_error(ytest,ypred))\n",
    "    mae=mean_absolute_error(ytest,ypred)\n",
    "    r2=r2_score(ytest,ypred)\n",
    "    return rmse,mae,r2\n",
    "\n",
    "# def train_and_evaluate(config_path):\n",
    "# args = argparse.ArgumentParser()\n",
    "# args.add_argument(\"--config\",default=\"params.yaml\")\n",
    "# parsed_args=args.parse_args()\n",
    "config_path=\"F:\\\\iNeuron\\\\End2End\\\\Simple App\\\\params.yaml\"\n",
    "config = read_params(config_path)\n",
    "\n",
    "test_data_path = config[\"split_data\"][\"test_path\"]\n",
    "train_data_path = config[\"split_data\"][\"train_path\"]\n",
    "random_state = config[\"base\"][\"random_state\"]\n",
    "model_dir = config[\"model_dir\"]\n",
    "\n",
    "\n",
    "alpha = config[\"estimators\"][\"ElasticNet\"][\"params\"][\"alpha\"]\n",
    "l1_ratio = config[\"estimators\"][\"ElasticNet\"][\"params\"][\"l1_ratio\"]\n",
    "\n",
    "\n",
    "# target = [config[\"base\"][\"target_col\"]]\n",
    "\n",
    "# train = pd.read_csv(filepath_or_buffer=\"F:\\\\iNeuron\\\\End2End\\\\Simple App\\\\data\\\\processed\\\\train_winequality.csv\", sep=',',)\n",
    "# test = pd.read_csv(filepath_or_buffer=\"F:\\\\iNeuron\\\\End2End\\\\Simple App\\\\data\\\\processed\\\\test_winequality.csv\", sep=',',)\n",
    "\n",
    "# ytrain = train[target]\n",
    "# ytest = test[target]\n",
    "\n",
    "# xtrain = train.drop(labels=target,axis=1)\n",
    "# xtest = test.drop(labels=target,axis=1)\n",
    "\n",
    "\n",
    "target = [config[\"base\"][\"target_col\"]]\n",
    "\n",
    "train = pd.read_csv(train_data_path, sep=',',)\n",
    "test = pd.read_csv(test_data_path, sep=',',)\n",
    "\n",
    "ytrain = train[target]\n",
    "ytest = test[target]\n",
    "\n",
    "xtrain = train.drop(labels=target,axis=1)\n",
    "xtest = test.drop(labels=target,axis=1)\n",
    "\n",
    "################################## MLFLOW BEGINS ##################################\n",
    "\n",
    "mlflow_config = config[\"mlflow_config\"]\n",
    "remote_server_uri = mlflow_config[\"remote_server_uri\"]\n",
    "\n",
    "mlflow.set_tracking_uri(remote_server_uri)\n",
    "# mlflow.set_experiment(mlflow_config[\"experiment_name\"])\n",
    "mlflow.set_experiment(mlflow_config[\"experiment_name\"])\n",
    "with mlflow.start_run():\n",
    "    model=ElasticNet(alpha=alpha,l1_ratio=l1_ratio, random_state=random_state)\n",
    "    model.fit(xtrain,ytrain)\n",
    "\n",
    "    ypred=model.predict(xtest)\n",
    "\n",
    "    (rmse,mae,r2) = eval_metrics(ytest,ypred)\n",
    "\n",
    "    mlflow.log_param(\"alpha\",alpha)\n",
    "    mlflow.log_param(\"l1_ratio\",l1_ratio)\n",
    "\n",
    "    mlflow.log_metric(\"rmse\", float(rmse)) \n",
    "    mlflow.log_metric(\"mae\", float(mae))\n",
    "    mlflow.log_metric(\"r2\", float(r2)) \n",
    "\n",
    "    # The traditional model logging method below is also going to be commented out.\n",
    "    # Instead, we will use mlflow.\n",
    "    # os.makedirs(model_dir, exist_ok=True)\n",
    "    # model_path = os.path.join(model_dir, \"model.joblib\")\n",
    "\n",
    "    # joblib.dump(model, model_path)\n",
    "\n",
    "    tracking_url_type_store = urlparse(mlflow.get_artifact_uri()).scheme\n",
    "    if tracking_url_type_store != \"file\":\n",
    "        mlflow.sklearn.log_model(model, \n",
    "                                    \"model\", \n",
    "                                    registered_model_name=mlflow_config[\"registered_model_name\"]\n",
    "                                )\n",
    "    else:\n",
    "            mlflow.sklearn.log_model(model, \"model\")\n",
    "\n",
    "\n",
    "################################## MLFLOW ENDS ##################################\n",
    "\n",
    "# if __name__==\"__main__\":\n",
    "\n"
   ]
  },
  {
   "cell_type": "code",
   "execution_count": 28,
   "id": "9adbb8c7",
   "metadata": {},
   "outputs": [],
   "source": [
    "from src.get_data import read_params\n",
    "import argparse\n",
    "import mlflow\n",
    "from mlflow.tracking import MlflowClient\n",
    "from pprint import pprint\n",
    "import joblib\n",
    "import os\n",
    "\n",
    "os.chdir(\"F:\\\\iNeuron\\\\End2End\\\\Simple App\")\n",
    "\n",
    "config_path=\"F:\\\\iNeuron\\\\End2End\\\\Simple App\\\\params.yaml\"\n",
    "config = read_params(config_path)\n",
    "\n",
    "mlflow_config = config[\"mlflow_config\"]\n",
    "\n",
    "model_name= mlflow_config[\"registered_model_name\"]\n",
    "\n",
    "remote_server_uri = mlflow_config['remote_server_uri']\n",
    "mlflow.set_tracking_uri(\"http://127.0.0.1:1234\")\n",
    "mlflow.set_registry_uri(\"http://127.0.0.1:1234\")"
   ]
  },
  {
   "cell_type": "code",
   "execution_count": 33,
   "id": "057e8267",
   "metadata": {},
   "outputs": [],
   "source": [
    "\n",
    "runs = mlflow.search_runs(experiment_ids=['1'])\n",
    "lowest = runs[\"metrics.mae\"].sort_values(ascending=True)[0]\n",
    "lowest_run_id = runs[runs[\"metrics.mae\"]==lowest][\"run_id\"][0]"
   ]
  },
  {
   "cell_type": "code",
   "execution_count": 34,
   "id": "c8f49a7b",
   "metadata": {},
   "outputs": [],
   "source": [
    "client =MlflowClient()"
   ]
  },
  {
   "cell_type": "code",
   "execution_count": 36,
   "id": "1dc9a732",
   "metadata": {},
   "outputs": [
    {
     "data": {
      "text/plain": [
       "'ElasticNetWineModel'"
      ]
     },
     "execution_count": 36,
     "metadata": {},
     "output_type": "execute_result"
    }
   ],
   "source": [
    "model_name"
   ]
  },
  {
   "cell_type": "code",
   "execution_count": 35,
   "id": "6d352bd0",
   "metadata": {},
   "outputs": [
    {
     "data": {
      "text/plain": [
       "[]"
      ]
     },
     "execution_count": 35,
     "metadata": {},
     "output_type": "execute_result"
    }
   ],
   "source": [
    "client.search_model_versions(f\"name='{model_name}'\")"
   ]
  },
  {
   "cell_type": "code",
   "execution_count": 23,
   "id": "e83b8e6c",
   "metadata": {},
   "outputs": [],
   "source": [
    "for mv in client.search_model_versions(f\"name='{model_name}'\"):\n",
    "    mv = dict(mv)\n",
    "    pprint(mv, indent=4)\n",
    "\n",
    "    if mv[\"run_id\"]== lowest_run_id:\n",
    "        current_version = mv['version']\n",
    "        logged_model = mv[\"source\"]\n",
    "        pprint(mv, indent=4)\n",
    "        client.transition_model_version_stage(\n",
    "            name = model_name,\n",
    "            version = current_version,\n",
    "            stage = 'Production'\n",
    "        )\n",
    "    else:\n",
    "        current_version = mv['version']\n",
    "        logged_model = mv[\"source\"]\n",
    "        #pprint(mv, indent=4)\n",
    "        client.transition_model_version_stage(\n",
    "            name = model_name,\n",
    "            version = current_version,\n",
    "            stage = 'Staging'\n",
    "        )"
   ]
  },
  {
   "cell_type": "code",
   "execution_count": 14,
   "id": "ec4c73a3",
   "metadata": {},
   "outputs": [
    {
     "ename": "NameError",
     "evalue": "name 'mv' is not defined",
     "output_type": "error",
     "traceback": [
      "\u001b[1;31m---------------------------------------------------------------------------\u001b[0m",
      "\u001b[1;31mNameError\u001b[0m                                 Traceback (most recent call last)",
      "\u001b[1;32mf:\\iNeuron\\End2End\\Simple App\\notebooks\\Untitled.ipynb Cell 18\u001b[0m line \u001b[0;36m1\n\u001b[1;32m----> <a href='vscode-notebook-cell:/f%3A/iNeuron/End2End/Simple%20App/notebooks/Untitled.ipynb#X41sZmlsZQ%3D%3D?line=0'>1</a>\u001b[0m mv[\u001b[39m\"\u001b[39m\u001b[39msource\u001b[39m\u001b[39m\"\u001b[39m]\n",
      "\u001b[1;31mNameError\u001b[0m: name 'mv' is not defined"
     ]
    }
   ],
   "source": [
    "mv[\"source\"]"
   ]
  },
  {
   "cell_type": "code",
   "execution_count": 15,
   "id": "fa8e6398",
   "metadata": {},
   "outputs": [
    {
     "ename": "NameError",
     "evalue": "name 'logged_model' is not defined",
     "output_type": "error",
     "traceback": [
      "\u001b[1;31m---------------------------------------------------------------------------\u001b[0m",
      "\u001b[1;31mNameError\u001b[0m                                 Traceback (most recent call last)",
      "\u001b[1;32mf:\\iNeuron\\End2End\\Simple App\\notebooks\\Untitled.ipynb Cell 19\u001b[0m line \u001b[0;36m1\n\u001b[1;32m----> <a href='vscode-notebook-cell:/f%3A/iNeuron/End2End/Simple%20App/notebooks/Untitled.ipynb#X40sZmlsZQ%3D%3D?line=0'>1</a>\u001b[0m logged_model\n",
      "\u001b[1;31mNameError\u001b[0m: name 'logged_model' is not defined"
     ]
    }
   ],
   "source": [
    "logged_model"
   ]
  },
  {
   "cell_type": "code",
   "execution_count": 47,
   "id": "3a72de67",
   "metadata": {},
   "outputs": [
    {
     "name": "stderr",
     "output_type": "stream",
     "text": [
      "Downloading artifacts:   0%|          | 0/1 [00:00<?, ?it/s]"
     ]
    },
    {
     "name": "stderr",
     "output_type": "stream",
     "text": [
      "Downloading artifacts:   0%|          | 0/1 [01:00<?, ?it/s]\n"
     ]
    },
    {
     "ename": "MlflowException",
     "evalue": "The following failures occurred while downloading one or more artifacts from http://127.0.0.1:1234/api/2.0/mlflow-artifacts/artifacts/3/dc2497d0dda84b8a893f5ad2e13a9462/artifacts:\n##### File model #####\nAPI request to http://127.0.0.1:1234/api/2.0/mlflow-artifacts/artifacts/3/dc2497d0dda84b8a893f5ad2e13a9462/artifacts/model failed with exception HTTPConnectionPool(host='127.0.0.1', port=1234): Max retries exceeded with url: /api/2.0/mlflow-artifacts/artifacts/3/dc2497d0dda84b8a893f5ad2e13a9462/artifacts/model (Caused by ResponseError('too many 500 error responses'))",
     "output_type": "error",
     "traceback": [
      "\u001b[1;31m---------------------------------------------------------------------------\u001b[0m",
      "\u001b[1;31mMlflowException\u001b[0m                           Traceback (most recent call last)",
      "\u001b[1;32mf:\\iNeuron\\End2End\\Simple App\\notebooks\\Untitled.ipynb Cell 19\u001b[0m line \u001b[0;36m1\n\u001b[1;32m----> <a href='vscode-notebook-cell:/f%3A/iNeuron/End2End/Simple%20App/notebooks/Untitled.ipynb#X35sZmlsZQ%3D%3D?line=0'>1</a>\u001b[0m loaded_model \u001b[39m=\u001b[39m mlflow\u001b[39m.\u001b[39;49mpyfunc\u001b[39m.\u001b[39;49mload_model(logged_model)\n\u001b[0;32m      <a href='vscode-notebook-cell:/f%3A/iNeuron/End2End/Simple%20App/notebooks/Untitled.ipynb#X35sZmlsZQ%3D%3D?line=1'>2</a>\u001b[0m model_path \u001b[39m=\u001b[39m config[\u001b[39m\"\u001b[39m\u001b[39mwebapp_model_dir\u001b[39m\u001b[39m\"\u001b[39m]\n\u001b[0;32m      <a href='vscode-notebook-cell:/f%3A/iNeuron/End2End/Simple%20App/notebooks/Untitled.ipynb#X35sZmlsZQ%3D%3D?line=2'>3</a>\u001b[0m joblib\u001b[39m.\u001b[39mdump(loaded_model,model_path)\n",
      "File \u001b[1;32mc:\\Users\\DELL\\anaconda3\\envs\\venv\\Lib\\site-packages\\mlflow\\pyfunc\\__init__.py:617\u001b[0m, in \u001b[0;36mload_model\u001b[1;34m(model_uri, suppress_warnings, dst_path)\u001b[0m\n\u001b[0;32m    589\u001b[0m \u001b[39mdef\u001b[39;00m \u001b[39mload_model\u001b[39m(\n\u001b[0;32m    590\u001b[0m     model_uri: \u001b[39mstr\u001b[39m,\n\u001b[0;32m    591\u001b[0m     suppress_warnings: \u001b[39mbool\u001b[39m \u001b[39m=\u001b[39m \u001b[39mFalse\u001b[39;00m,\n\u001b[0;32m    592\u001b[0m     dst_path: \u001b[39mstr\u001b[39m \u001b[39m=\u001b[39m \u001b[39mNone\u001b[39;00m,\n\u001b[0;32m    593\u001b[0m ) \u001b[39m-\u001b[39m\u001b[39m>\u001b[39m PyFuncModel:\n\u001b[0;32m    594\u001b[0m \u001b[39m    \u001b[39m\u001b[39m\"\"\"\u001b[39;00m\n\u001b[0;32m    595\u001b[0m \u001b[39m    Load a model stored in Python function format.\u001b[39;00m\n\u001b[0;32m    596\u001b[0m \n\u001b[1;32m   (...)\u001b[0m\n\u001b[0;32m    615\u001b[0m \u001b[39m                     path will be created.\u001b[39;00m\n\u001b[0;32m    616\u001b[0m \u001b[39m    \"\"\"\u001b[39;00m\n\u001b[1;32m--> 617\u001b[0m     local_path \u001b[39m=\u001b[39m _download_artifact_from_uri(artifact_uri\u001b[39m=\u001b[39;49mmodel_uri, output_path\u001b[39m=\u001b[39;49mdst_path)\n\u001b[0;32m    619\u001b[0m     \u001b[39mif\u001b[39;00m \u001b[39mnot\u001b[39;00m suppress_warnings:\n\u001b[0;32m    620\u001b[0m         _warn_dependency_requirement_mismatches(local_path)\n",
      "File \u001b[1;32mc:\\Users\\DELL\\anaconda3\\envs\\venv\\Lib\\site-packages\\mlflow\\tracking\\artifact_utils.py:100\u001b[0m, in \u001b[0;36m_download_artifact_from_uri\u001b[1;34m(artifact_uri, output_path)\u001b[0m\n\u001b[0;32m     94\u001b[0m \u001b[39m\u001b[39m\u001b[39m\"\"\"\u001b[39;00m\n\u001b[0;32m     95\u001b[0m \u001b[39m:param artifact_uri: The *absolute* URI of the artifact to download.\u001b[39;00m\n\u001b[0;32m     96\u001b[0m \u001b[39m:param output_path: The local filesystem path to which to download the artifact. If unspecified,\u001b[39;00m\n\u001b[0;32m     97\u001b[0m \u001b[39m                    a local output path will be created.\u001b[39;00m\n\u001b[0;32m     98\u001b[0m \u001b[39m\"\"\"\u001b[39;00m\n\u001b[0;32m     99\u001b[0m root_uri, artifact_path \u001b[39m=\u001b[39m _get_root_uri_and_artifact_path(artifact_uri)\n\u001b[1;32m--> 100\u001b[0m \u001b[39mreturn\u001b[39;00m get_artifact_repository(artifact_uri\u001b[39m=\u001b[39;49mroot_uri)\u001b[39m.\u001b[39;49mdownload_artifacts(\n\u001b[0;32m    101\u001b[0m     artifact_path\u001b[39m=\u001b[39;49martifact_path, dst_path\u001b[39m=\u001b[39;49moutput_path\n\u001b[0;32m    102\u001b[0m )\n",
      "File \u001b[1;32mc:\\Users\\DELL\\anaconda3\\envs\\venv\\Lib\\site-packages\\mlflow\\store\\artifact\\artifact_repo.py:221\u001b[0m, in \u001b[0;36mArtifactRepository.download_artifacts\u001b[1;34m(self, artifact_path, dst_path)\u001b[0m\n\u001b[0;32m    217\u001b[0m     template \u001b[39m=\u001b[39m \u001b[39m\"\u001b[39m\u001b[39m##### File \u001b[39m\u001b[39m{path}\u001b[39;00m\u001b[39m #####\u001b[39m\u001b[39m\\n\u001b[39;00m\u001b[39m{error}\u001b[39;00m\u001b[39m\"\u001b[39m\n\u001b[0;32m    218\u001b[0m     failures \u001b[39m=\u001b[39m \u001b[39m\"\u001b[39m\u001b[39m\\n\u001b[39;00m\u001b[39m\"\u001b[39m\u001b[39m.\u001b[39mjoin(\n\u001b[0;32m    219\u001b[0m         template\u001b[39m.\u001b[39mformat(path\u001b[39m=\u001b[39mpath, error\u001b[39m=\u001b[39merror) \u001b[39mfor\u001b[39;00m path, error \u001b[39min\u001b[39;00m failed_downloads\u001b[39m.\u001b[39mitems()\n\u001b[0;32m    220\u001b[0m     )\n\u001b[1;32m--> 221\u001b[0m     \u001b[39mraise\u001b[39;00m MlflowException(\n\u001b[0;32m    222\u001b[0m         message\u001b[39m=\u001b[39m(\n\u001b[0;32m    223\u001b[0m             \u001b[39m\"\u001b[39m\u001b[39mThe following failures occurred while downloading one or more\u001b[39m\u001b[39m\"\u001b[39m\n\u001b[0;32m    224\u001b[0m             \u001b[39mf\u001b[39m\u001b[39m\"\u001b[39m\u001b[39m artifacts from \u001b[39m\u001b[39m{\u001b[39;00m\u001b[39mself\u001b[39m\u001b[39m.\u001b[39martifact_uri\u001b[39m}\u001b[39;00m\u001b[39m:\u001b[39m\u001b[39m\\n\u001b[39;00m\u001b[39m{\u001b[39;00m_truncate_error(failures)\u001b[39m}\u001b[39;00m\u001b[39m\"\u001b[39m\n\u001b[0;32m    225\u001b[0m         )\n\u001b[0;32m    226\u001b[0m     )\n\u001b[0;32m    228\u001b[0m \u001b[39mreturn\u001b[39;00m os\u001b[39m.\u001b[39mpath\u001b[39m.\u001b[39mjoin(dst_path, artifact_path)\n",
      "\u001b[1;31mMlflowException\u001b[0m: The following failures occurred while downloading one or more artifacts from http://127.0.0.1:1234/api/2.0/mlflow-artifacts/artifacts/3/dc2497d0dda84b8a893f5ad2e13a9462/artifacts:\n##### File model #####\nAPI request to http://127.0.0.1:1234/api/2.0/mlflow-artifacts/artifacts/3/dc2497d0dda84b8a893f5ad2e13a9462/artifacts/model failed with exception HTTPConnectionPool(host='127.0.0.1', port=1234): Max retries exceeded with url: /api/2.0/mlflow-artifacts/artifacts/3/dc2497d0dda84b8a893f5ad2e13a9462/artifacts/model (Caused by ResponseError('too many 500 error responses'))"
     ]
    }
   ],
   "source": [
    "loaded_model = mlflow.pyfunc.load_model(logged_model)\n",
    "model_path = config[\"webapp_model_dir\"]\n",
    "joblib.dump(loaded_model,model_path)"
   ]
  },
  {
   "cell_type": "code",
   "execution_count": null,
   "id": "8f1fc91e",
   "metadata": {},
   "outputs": [],
   "source": []
  }
 ],
 "metadata": {
  "kernelspec": {
   "display_name": "Python 3 (ipykernel)",
   "language": "python",
   "name": "python3"
  },
  "language_info": {
   "codemirror_mode": {
    "name": "ipython",
    "version": 3
   },
   "file_extension": ".py",
   "mimetype": "text/x-python",
   "name": "python",
   "nbconvert_exporter": "python",
   "pygments_lexer": "ipython3",
   "version": "3.11.5"
  }
 },
 "nbformat": 4,
 "nbformat_minor": 5
}
